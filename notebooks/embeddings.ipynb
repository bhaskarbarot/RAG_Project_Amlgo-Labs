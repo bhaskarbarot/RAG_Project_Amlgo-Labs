{
 "cells": [
  {
   "cell_type": "markdown",
   "id": "e355b7dc",
   "metadata": {},
   "source": [
    "#### Date 30th july 2025 Project Rag for AMLGO LABS"
   ]
  },
  {
   "cell_type": "code",
   "execution_count": 3,
   "id": "3e9d8a62",
   "metadata": {},
   "outputs": [
    {
     "name": "stdout",
     "output_type": "stream",
     "text": [
      " Starting embeddings and vector database creation...\n",
      "Loaded 306 chunks\n",
      "Sample chunk length: 17 characters\n"
     ]
    }
   ],
   "source": [
    "import json\n",
    "import numpy as np\n",
    "import faiss\n",
    "from sentence_transformers import SentenceTransformer\n",
    "import os\n",
    "from typing import List\n",
    "import pandas as pd\n",
    "\n",
    "print(\" Starting embeddings and vector database creation...\")\n",
    "\n",
    "# Load processed chunks\n",
    "with open('/home/petpooja/Documents/amlgo/chunks/processed_chunks.json','r', encoding='utf-8') as f:\n",
    "    chunks_data = json.load(f)\n",
    "\n",
    "chunks = [chunk['text'] for chunk in chunks_data['chunks']]\n",
    "print(f\"Loaded {len(chunks)} chunks\")\n",
    "print(f\"Sample chunk length: {len(chunks[0])} characters\")"
   ]
  },
  {
   "cell_type": "code",
   "execution_count": 4,
   "id": "58632804",
   "metadata": {},
   "outputs": [
    {
     "name": "stdout",
     "output_type": "stream",
     "text": [
      "🤖 Loading embedding model: all-MiniLM-L6-v2\n"
     ]
    },
    {
     "data": {
      "application/vnd.jupyter.widget-view+json": {
       "model_id": "7401d47810084e23be4a83cb9389c6f1",
       "version_major": 2,
       "version_minor": 0
      },
      "text/plain": [
       "modules.json:   0%|          | 0.00/349 [00:00<?, ?B/s]"
      ]
     },
     "metadata": {},
     "output_type": "display_data"
    },
    {
     "data": {
      "application/vnd.jupyter.widget-view+json": {
       "model_id": "49cde4c641a94c7396d2487aa4681e52",
       "version_major": 2,
       "version_minor": 0
      },
      "text/plain": [
       "config_sentence_transformers.json:   0%|          | 0.00/116 [00:00<?, ?B/s]"
      ]
     },
     "metadata": {},
     "output_type": "display_data"
    },
    {
     "data": {
      "application/vnd.jupyter.widget-view+json": {
       "model_id": "ea01d9f9bc9949ad9435565aa8ff7313",
       "version_major": 2,
       "version_minor": 0
      },
      "text/plain": [
       "README.md: 0.00B [00:00, ?B/s]"
      ]
     },
     "metadata": {},
     "output_type": "display_data"
    },
    {
     "data": {
      "application/vnd.jupyter.widget-view+json": {
       "model_id": "3b9927f7df1048eaa9ed82f5bbc07296",
       "version_major": 2,
       "version_minor": 0
      },
      "text/plain": [
       "sentence_bert_config.json:   0%|          | 0.00/53.0 [00:00<?, ?B/s]"
      ]
     },
     "metadata": {},
     "output_type": "display_data"
    },
    {
     "data": {
      "application/vnd.jupyter.widget-view+json": {
       "model_id": "0afee94d8bec4b87aab7c75f93151067",
       "version_major": 2,
       "version_minor": 0
      },
      "text/plain": [
       "config.json:   0%|          | 0.00/612 [00:00<?, ?B/s]"
      ]
     },
     "metadata": {},
     "output_type": "display_data"
    },
    {
     "data": {
      "application/vnd.jupyter.widget-view+json": {
       "model_id": "ac650489cd154a74ba4719847dc2948a",
       "version_major": 2,
       "version_minor": 0
      },
      "text/plain": [
       "model.safetensors:   0%|          | 0.00/90.9M [00:00<?, ?B/s]"
      ]
     },
     "metadata": {},
     "output_type": "display_data"
    },
    {
     "data": {
      "application/vnd.jupyter.widget-view+json": {
       "model_id": "157eec9455144430b9365907d7307599",
       "version_major": 2,
       "version_minor": 0
      },
      "text/plain": [
       "tokenizer_config.json:   0%|          | 0.00/350 [00:00<?, ?B/s]"
      ]
     },
     "metadata": {},
     "output_type": "display_data"
    },
    {
     "data": {
      "application/vnd.jupyter.widget-view+json": {
       "model_id": "50c588a3eaca4762a4207bd0dcf70b38",
       "version_major": 2,
       "version_minor": 0
      },
      "text/plain": [
       "vocab.txt: 0.00B [00:00, ?B/s]"
      ]
     },
     "metadata": {},
     "output_type": "display_data"
    },
    {
     "data": {
      "application/vnd.jupyter.widget-view+json": {
       "model_id": "36810b555dbb465c8cfd8164095b2ae9",
       "version_major": 2,
       "version_minor": 0
      },
      "text/plain": [
       "tokenizer.json: 0.00B [00:00, ?B/s]"
      ]
     },
     "metadata": {},
     "output_type": "display_data"
    },
    {
     "data": {
      "application/vnd.jupyter.widget-view+json": {
       "model_id": "38f0ccf222e94c69a6f2a6c630ade70b",
       "version_major": 2,
       "version_minor": 0
      },
      "text/plain": [
       "special_tokens_map.json:   0%|          | 0.00/112 [00:00<?, ?B/s]"
      ]
     },
     "metadata": {},
     "output_type": "display_data"
    },
    {
     "data": {
      "application/vnd.jupyter.widget-view+json": {
       "model_id": "c19903d697444e41bb0dc87d04385758",
       "version_major": 2,
       "version_minor": 0
      },
      "text/plain": [
       "config.json:   0%|          | 0.00/190 [00:00<?, ?B/s]"
      ]
     },
     "metadata": {},
     "output_type": "display_data"
    },
    {
     "name": "stdout",
     "output_type": "stream",
     "text": [
      "Model loaded successfully!\n",
      "Model max sequence length: 256\n",
      "Embedding dimension: 384\n"
     ]
    }
   ],
   "source": [
    "# Initialize sentence transformer model\n",
    "model_name = 'all-MiniLM-L6-v2'\n",
    "print(f\"Loading embedding model: {model_name}\")\n",
    "\n",
    "embedding_model = SentenceTransformer(model_name)\n",
    "print(f\"Model loaded successfully!\")\n",
    "print(f\"Model max sequence length: {embedding_model.max_seq_length}\")\n",
    "print(f\"Embedding dimension: {embedding_model.get_sentence_embedding_dimension()}\")"
   ]
  },
  {
   "cell_type": "code",
   "execution_count": null,
   "id": "a2f2cbee",
   "metadata": {},
   "outputs": [
    {
     "name": "stdout",
     "output_type": "stream",
     "text": [
      "🔄 Generating embeddings...\n",
      "This may take a few minutes depending on document size...\n"
     ]
    },
    {
     "data": {
      "application/vnd.jupyter.widget-view+json": {
       "model_id": "d74edfdc835d4c038bf62409eb2dca9b",
       "version_major": 2,
       "version_minor": 0
      },
      "text/plain": [
       "Batches:   0%|          | 0/10 [00:00<?, ?it/s]"
      ]
     },
     "metadata": {},
     "output_type": "display_data"
    },
    {
     "name": "stderr",
     "output_type": "stream",
     "text": [
      "/home/petpooja/Documents/.venv/lib/python3.10/site-packages/torch/nn/modules/module.py:1762: FutureWarning: `encoder_attention_mask` is deprecated and will be removed in version 4.55.0 for `BertSdpaSelfAttention.forward`.\n",
      "  return forward_call(*args, **kwargs)\n"
     ]
    },
    {
     "name": "stdout",
     "output_type": "stream",
     "text": [
      "\n",
      "✅ Embeddings generated!\n",
      "Embeddings shape: (306, 384)\n",
      "Embedding type: float32\n",
      "💾 Embeddings saved to ../vectordb/embeddings.npy\n"
     ]
    }
   ],
   "source": [
    "# Generate embeddings for all chunks\n",
    "print(\"Generating embeddings...\")\n",
    "print(\"This may take a few minutes depending on document size...\")\n",
    "\n",
    "embeddings = embedding_model.encode(\n",
    "    chunks, \n",
    "    show_progress_bar=True,\n",
    "    convert_to_numpy=True,\n",
    "    normalize_embeddings=True  # Normalize for cosine similarity\n",
    ")\n",
    "\n",
    "print(f\"\\nEmbeddings generated!\")\n",
    "print(f\"Embeddings shape: {embeddings.shape}\")\n",
    "print(f\"Embedding type: {embeddings.dtype}\")\n",
    "\n",
    "# Save embeddings\n",
    "os.makedirs('../vectordb', exist_ok=True)\n",
    "np.save('../vectordb/embeddings.npy', embeddings)\n",
    "print(\"Embeddings saved to ../vectordb/embeddings.npy\")"
   ]
  },
  {
   "cell_type": "code",
   "execution_count": null,
   "id": "0a7e07ea",
   "metadata": {},
   "outputs": [
    {
     "name": "stdout",
     "output_type": "stream",
     "text": [
      "🗃️ Creating FAISS vector database...\n",
      "Vector dimension: 384\n",
      "✅ FAISS index created!\n",
      "Total vectors in index: 306\n",
      "💾 FAISS index saved to ../vectordb/document_index.faiss\n"
     ]
    }
   ],
   "source": [
    "# Create FAISS index for efficient similarity search\n",
    "print(\"Creating FAISS vector database...\")\n",
    "\n",
    "dimension = embeddings.shape[1]\n",
    "print(f\"Vector dimension: {dimension}\")\n",
    "\n",
    "# Use IndexFlatIP for inner product (cosine similarity with normalized vectors)\n",
    "index = faiss.IndexFlatIP(dimension)\n",
    "\n",
    "# Add embeddings to index\n",
    "embeddings_float32 = embeddings.astype('float32')\n",
    "index.add(embeddings_float32)\n",
    "\n",
    "print(f\"FAISS index created!\")\n",
    "print(f\"Total vectors in index: {index.ntotal}\")\n",
    "\n",
    "# Save FAISS index\n",
    "faiss.write_index(index, '../vectordb/document_index.faiss')\n",
    "print(\"FAISS index saved to ../vectordb/document_index.faiss\")"
   ]
  },
  {
   "cell_type": "code",
   "execution_count": null,
   "id": "fe664ee7",
   "metadata": {},
   "outputs": [
    {
     "name": "stdout",
     "output_type": "stream",
     "text": [
      "💾 Metadata saved to ../vectordb/metadata.json\n",
      "\n",
      "🔍 Testing retrieval for query: 'What are eBay's return policies?'\n",
      "📊 Top 2 results:\n",
      "\n",
      "Result 1:\n",
      "Score: 0.7369\n",
      "Chunk ID: 124\n",
      "Text: Where settings have been set to automatically accept requests for returns or replacements, an eBay -generated return shipping label will be provided t...\n",
      "\n",
      "Result 2:\n",
      "Score: 0.7163\n",
      "Chunk ID: 119\n",
      "Text: 14. Additional Terms Returns and cancellations for sellers Sellers can create rules to automate replacements, returns, and refunds under certain circu...\n",
      "\n",
      "🔍 Testing retrieval for query: 'seller fees and charges'\n",
      "📊 Top 2 results:\n",
      "\n",
      "Result 1:\n",
      "Score: 0.7369\n",
      "Chunk ID: 44\n",
      "Text: The fees we charge sellers for using our Services to sell goods and services are listed on our Selling fees pages....\n",
      "\n",
      "Result 2:\n",
      "Score: 0.7022\n",
      "Chunk ID: 42\n",
      "Text: Fees and Taxes We charge sellers for the use of our Services....\n",
      "\n",
      "🔍 Testing retrieval for query: 'dispute resolution process'\n",
      "📊 Top 2 results:\n",
      "\n",
      "Result 1:\n",
      "Score: 0.6269\n",
      "Chunk ID: 186\n",
      "Text: For purposes of this Agreement to Arbitrate, \"Dispute\" will also include disputes that arose or involve facts occurring before the existence of this o...\n",
      "\n",
      "Result 2:\n",
      "Score: 0.6246\n",
      "Chunk ID: 192\n",
      "Text: To be valid, you must personally sign the Notice and complete all information on the Notice form, including a description of the claims you are assert...\n",
      "\n",
      "✅ Vector database creation complete!\n",
      "📁 Created files:\n",
      "  - ../vectordb/document_index.faiss\n",
      "  - ../vectordb/embeddings.npy\n",
      "  - ../vectordb/metadata.json\n"
     ]
    }
   ],
   "source": [
    "# Create comprehensive metadata\n",
    "metadata = {\n",
    "    'document_info': chunks_data['metadata'],\n",
    "    'embedding_model': model_name,\n",
    "    'vector_dimension': dimension,\n",
    "    'total_vectors': len(chunks),\n",
    "    'index_type': 'FAISS_IndexFlatIP',\n",
    "    'similarity_metric': 'cosine_similarity',\n",
    "    'chunks': chunks_data['chunks']  # Include full chunk metadata\n",
    "}\n",
    "\n",
    "# Save metadata\n",
    "with open('../vectordb/metadata.json', 'w', encoding='utf-8') as f:\n",
    "    json.dump(metadata, f, indent=2, ensure_ascii=False)\n",
    "\n",
    "print(\"Metadata saved to ../vectordb/metadata.json\")\n",
    "\n",
    "# Test retrieval functionality\n",
    "def test_retrieval(query: str, top_k: int = 3):\n",
    "    \"\"\"Test the retrieval system\"\"\"\n",
    "    print(f\"\\nTesting retrieval for query: '{query}'\")\n",
    "    \n",
    "    # Encode query\n",
    "    query_embedding = embedding_model.encode([query], normalize_embeddings=True)\n",
    "    query_embedding = query_embedding.astype('float32')\n",
    "    \n",
    "    # Search\n",
    "    scores, indices = index.search(query_embedding, top_k)\n",
    "    \n",
    "    print(f\"Top {top_k} results:\")\n",
    "    for i, (score, idx) in enumerate(zip(scores[0], indices[0])):\n",
    "        print(f\"\\nResult {i+1}:\")\n",
    "        print(f\"Score: {score:.4f}\")\n",
    "        print(f\"Chunk ID: {idx}\")\n",
    "        print(f\"Text: {chunks[idx][:150]}...\")\n",
    "\n",
    "# Test with sample queries\n",
    "test_queries = [\n",
    "    \"What are eBay's return policies?\",\n",
    "    \"seller fees and charges\",\n",
    "    \"dispute resolution process\"\n",
    "]\n",
    "\n",
    "for query in test_queries:\n",
    "    test_retrieval(query, top_k=2)\n",
    "\n",
    "print(f\"\\nVector database creation complete!\")\n",
    "print(f\"Created files:\")\n",
    "print(f\"  - ../vectordb/document_index.faiss\")\n",
    "print(f\"  - ../vectordb/embeddings.npy\") \n",
    "print(f\"  - ../vectordb/metadata.json\")"
   ]
  },
  {
   "cell_type": "code",
   "execution_count": null,
   "id": "b96f79f5",
   "metadata": {},
   "outputs": [],
   "source": []
  }
 ],
 "metadata": {
  "kernelspec": {
   "display_name": ".venv",
   "language": "python",
   "name": "python3"
  },
  "language_info": {
   "codemirror_mode": {
    "name": "ipython",
    "version": 3
   },
   "file_extension": ".py",
   "mimetype": "text/x-python",
   "name": "python",
   "nbconvert_exporter": "python",
   "pygments_lexer": "ipython3",
   "version": "3.10.12"
  }
 },
 "nbformat": 4,
 "nbformat_minor": 5
}
